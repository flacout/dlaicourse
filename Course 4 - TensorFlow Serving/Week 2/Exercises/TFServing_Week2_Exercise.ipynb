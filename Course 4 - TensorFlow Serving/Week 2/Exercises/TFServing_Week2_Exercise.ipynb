{
 "cells": [
  {
   "cell_type": "markdown",
   "metadata": {
    "colab_type": "text",
    "id": "ALCxPdSdX3NU"
   },
   "source": [
    "# Exporting an MNIST Classifier in SavedModel Format\n",
    "\n",
    "In this exercise, we will learn on how to create models for TensorFlow Hub. You will be tasked with performing the following tasks:\n",
    "\n",
    "*   Creating a simple MNIST classifier and evaluating its accuracy.\n",
    "*   Exporting it into SavedModel.\n",
    "*   Hosting the model as TF Hub Module.\n",
    "*   Importing this TF Hub Module to be used with Keras Layers."
   ]
  },
  {
   "cell_type": "markdown",
   "metadata": {},
   "source": [
    "<table class=\"tfo-notebook-buttons\" align=\"left\">\n",
    "  <td>\n",
    "    <a target=\"_blank\" href=\"https://colab.research.google.com/github/lmoroney/dlaicourse/blob/master/TensorFlow%20Deployment/Course%204%20-%20TensorFlow%20Serving/Week%202/Exercises/TFServing_Week2_Exercise.ipynb\">\n",
    "    <img src=\"https://www.tensorflow.org/images/colab_logo_32px.png\" />\n",
    "    Run in Google Colab</a>\n",
    "  </td>\n",
    "  <td>\n",
    "    <a target=\"_blank\" href=\"https://github.com/lmoroney/dlaicourse/blob/master/TensorFlow%20Deployment/Course%204%20-%20TensorFlow%20Serving/Week%202/Exercises/TFServing_Week2_Exercise.ipynb\">\n",
    "    <img src=\"https://www.tensorflow.org/images/GitHub-Mark-32px.png\" />\n",
    "    View source on GitHub</a>\n",
    "  </td>\n",
    "</table>"
   ]
  },
  {
   "cell_type": "code",
   "execution_count": null,
   "metadata": {},
   "outputs": [],
   "source": [
    "try:\n",
    "    %tensorflow_version 2.x\n",
    "except:\n",
    "    pass"
   ]
  },
  {
   "cell_type": "code",
   "execution_count": 1,
   "metadata": {
    "colab": {},
    "colab_type": "code",
    "id": "swaA66rjiRTd"
   },
   "outputs": [
    {
     "name": "stdout",
     "output_type": "stream",
     "text": [
      "• Using TensorFlow Version: 2.0.0\n"
     ]
    }
   ],
   "source": [
    "import numpy as np\n",
    "import tensorflow as tf\n",
    "import tensorflow_hub as hub\n",
    "import tensorflow_datasets as tfds\n",
    "tfds.disable_progress_bar()\n",
    "\n",
    "print(\"\\u2022 Using TensorFlow Version:\", tf.__version__)"
   ]
  },
  {
   "cell_type": "markdown",
   "metadata": {
    "colab_type": "text",
    "id": "UMZdLgyN7gby"
   },
   "source": [
    "## Create an MNIST Classifier\n",
    "\n",
    "We will start by creating a class called `MNIST`. This class will load the MNIST dataset, preprocess the images from the dataset, and build a CNN based classifier. This class will also have some methods to train, test, and save our model. \n",
    "\n",
    "In the cell below, fill in the missing code and create the following Keras `Sequential` model:\n",
    "\n",
    "```\n",
    "    Model: \"sequential\"\n",
    "    _________________________________________________________________\n",
    "    Layer (type)                 Output Shape              Param #   \n",
    "    =================================================================\n",
    "    lambda (Lambda)              (None, 28, 28, 1)         0         \n",
    "    _________________________________________________________________\n",
    "    conv2d (Conv2D)              (None, 28, 28, 8)         80        \n",
    "    _________________________________________________________________\n",
    "    max_pooling2d (MaxPooling2D) (None, 14, 14, 8)         0         \n",
    "    _________________________________________________________________\n",
    "    conv2d_1 (Conv2D)            (None, 14, 14, 16)        1168      \n",
    "    _________________________________________________________________\n",
    "    max_pooling2d_1 (MaxPooling2 (None, 7, 7, 16)          0         \n",
    "    _________________________________________________________________\n",
    "    conv2d_2 (Conv2D)            (None, 7, 7, 32)          4640      \n",
    "    _________________________________________________________________\n",
    "    flatten (Flatten)            (None, 1568)              0         \n",
    "    _________________________________________________________________\n",
    "    dense (Dense)                (None, 128)               200832    \n",
    "    _________________________________________________________________\n",
    "    dense_1 (Dense)              (None, 10)                1290      \n",
    "    =================================================================\n",
    "\n",
    "```\n",
    "\n",
    "Notice that we are using a ` tf.keras.layers.Lambda` layer at the beginning of our model. `Lambda` layers are used to wrap arbitrary expressions as a `Layer` object:\n",
    "\n",
    "```python\n",
    "tf.keras.layers.Lambda(expression)\n",
    "```\n",
    "\n",
    "The `Lambda` layer exists so that arbitrary TensorFlow functions can be used when constructing `Sequential` and Functional API models. `Lambda` layers are best suited for simple operations. "
   ]
  },
  {
   "cell_type": "code",
   "execution_count": 2,
   "metadata": {},
   "outputs": [],
   "source": [
    "class MNIST:\n",
    "    def __init__(self, export_path, buffer_size=1000, batch_size=32,\n",
    "                 learning_rate=1e-3, epochs=10):\n",
    "        self._export_path = export_path\n",
    "        self._buffer_size = buffer_size\n",
    "        self._batch_size = batch_size\n",
    "        self._learning_rate = learning_rate\n",
    "        self._epochs = epochs\n",
    "    \n",
    "        self._build_model()\n",
    "        self.train_dataset, self.test_dataset = self._prepare_dataset()\n",
    "    \n",
    "    # Function to preprocess the images.\n",
    "    def preprocess_fn(self, x):\n",
    "        \n",
    "        # EXERCISE: Cast x to tf.float32 using the tf.cast() function.\n",
    "        # You should also normalize the values of x to be in the range [0, 1].\n",
    "        x = tf.cast(x, tf.float32) / 255.\n",
    "        return x\n",
    "        \n",
    "    def _build_model(self):\n",
    "        \n",
    "        # EXERCISE: Build the model according to the model summary shown above.\n",
    "        self._model = tf.keras.models.Sequential([\n",
    "            tf.keras.layers.Input(shape=(28, 28, 1), dtype=tf.uint8),\n",
    "            \n",
    "            # Use a Lambda layer to use the self.preprocess_fn function\n",
    "            # defined above to preprocess the images.\n",
    "            tf.keras.layers.Lambda(self.preprocess_fn),\n",
    "            \n",
    "            # Create a Conv2D layer with 8 filters, a kernel size of 3\n",
    "            # and padding='same'.\n",
    "            tf.keras.layers.Conv2D(8, (3,3), padding='same'),\n",
    "            \n",
    "            # Create a MaxPool2D() layer. Use default values.\n",
    "            tf.keras.layers.MaxPooling2D(),\n",
    "            \n",
    "            # Create a Conv2D layer with 16 filters, a kernel size of 3\n",
    "            # and padding='same'.\n",
    "            tf.keras.layers.Conv2D(16, (3,3), padding='same'),\n",
    "            \n",
    "            # Create a MaxPool2D() layer. Use default values.\n",
    "            tf.keras.layers.MaxPooling2D(),\n",
    "            \n",
    "            # Create a Conv2D layer with 32 filters, a kernel size of 3\n",
    "            # and padding='same'.\n",
    "            tf.keras.layers.Conv2D(32, (3,3), padding='same'),\n",
    "            \n",
    "            # Create the Flatten and Dense layers as described in the \n",
    "            # model summary shown above.\n",
    "            tf.keras.layers.Flatten(), \n",
    "            tf.keras.layers.Dense(128), \n",
    "            tf.keras.layers.Dense(10, activation='softmax'), \n",
    "        ])\n",
    "        print(self._model.summary())\n",
    "        # EXERCISE: Define the optimizer, loss function and metrics.\n",
    "        \n",
    "        # Use the tf.keras.optimizers.Adam optimizer and set the\n",
    "        # learning rate to self._learning_rate.\n",
    "        optimizer_fn = tf.keras.optimizers.Adam(lr=self._learning_rate)\n",
    "        \n",
    "        # Use sparse_categorical_crossentropy as your loss function.\n",
    "        loss_fn = 'sparse_categorical_crossentropy'\n",
    "        \n",
    "        # Set the metrics to accuracy.\n",
    "        metrics_list = ['acc']\n",
    "     \n",
    "        # Compile the model.\n",
    "        self._model.compile(optimizer_fn, loss=loss_fn, metrics=metrics_list)\n",
    "        \n",
    "    def _prepare_dataset(self):\n",
    "        \n",
    "        # EXERCISE: Load the MNIST dataset using tfds.load(). You should\n",
    "        # load the images as well as their corresponding labels and\n",
    "        # load both the test and train splits.\n",
    "        dataset = tfds.load('mnist:3.*.*', split=['train', 'test'], as_supervised=True)\n",
    "        \n",
    "        # EXERCISE: Extract the 'train' and 'test' splits from the dataset above.\n",
    "        train_dataset, test_dataset = dataset\n",
    "        return train_dataset, test_dataset\n",
    "    \n",
    "    def train(self):\n",
    "        \n",
    "        # EXERCISE: Shuffle and batch the self.train_dataset. Use self._buffer_size\n",
    "        # as the shuffling buffer and self._batch_size as the batch size for batching. \n",
    "        dataset_tr = self.train_dataset.shuffle(self._buffer_size).batch(self._batch_size)\n",
    "        \n",
    "        # Train the model for specified number of epochs.\n",
    "        self._model.fit(dataset_tr, epochs=self._epochs)\n",
    "        \n",
    "    def test(self):\n",
    "        \n",
    "        # EXERCISE: Batch the self.test_dataset. Use a batch size of 32.\n",
    "        dataset_te = self.test_dataset.batch(32)\n",
    "        \n",
    "        # Evaluate the dataset\n",
    "        results = self._model.evaluate(dataset_te)\n",
    "    \n",
    "        # Print the metric values on which the model is being evaluated on.\n",
    "        for name, value in zip(self._model.metrics_names, results):\n",
    "            print(\"%s: %.3f\" % (name, value))\n",
    "            \n",
    "    def export_model(self):\n",
    "        # Save the model.\n",
    "        tf.saved_model.save(self._model, self._export_path)"
   ]
  },
  {
   "cell_type": "markdown",
   "metadata": {
    "colab_type": "text",
    "id": "-dDAjgDe7lp4"
   },
   "source": [
    "## Train, Evaluate, and Save the Model\n",
    "\n",
    "We will now use the `MNIST` class we created above to create an `mnist` object. When creating our `mnist` object we will use a dictionary to pass our training parameters. We will then call the `train` and `export_model` methods to train and save our model, respectively. Finally, we call the `test` method to evaluate our model after training. \n",
    "\n",
    "**NOTE:** It will take about 12 minutes to train the model for 5 epochs."
   ]
  },
  {
   "cell_type": "code",
   "execution_count": 3,
   "metadata": {
    "colab": {
     "base_uri": "https://localhost:8080/",
     "height": 287
    },
    "colab_type": "code",
    "id": "w6Ba6ileois3",
    "outputId": "a280b504-6619-4a1e-c020-6c787b5b76b4"
   },
   "outputs": [
    {
     "name": "stdout",
     "output_type": "stream",
     "text": [
      "Model: \"sequential\"\n",
      "_________________________________________________________________\n",
      "Layer (type)                 Output Shape              Param #   \n",
      "=================================================================\n",
      "lambda (Lambda)              (None, 28, 28, 1)         0         \n",
      "_________________________________________________________________\n",
      "conv2d (Conv2D)              (None, 28, 28, 8)         80        \n",
      "_________________________________________________________________\n",
      "max_pooling2d (MaxPooling2D) (None, 14, 14, 8)         0         \n",
      "_________________________________________________________________\n",
      "conv2d_1 (Conv2D)            (None, 14, 14, 16)        1168      \n",
      "_________________________________________________________________\n",
      "max_pooling2d_1 (MaxPooling2 (None, 7, 7, 16)          0         \n",
      "_________________________________________________________________\n",
      "conv2d_2 (Conv2D)            (None, 7, 7, 32)          4640      \n",
      "_________________________________________________________________\n",
      "flatten (Flatten)            (None, 1568)              0         \n",
      "_________________________________________________________________\n",
      "dense (Dense)                (None, 128)               200832    \n",
      "_________________________________________________________________\n",
      "dense_1 (Dense)              (None, 10)                1290      \n",
      "=================================================================\n",
      "Total params: 208,010\n",
      "Trainable params: 208,010\n",
      "Non-trainable params: 0\n",
      "_________________________________________________________________\n",
      "None\n",
      "Epoch 1/5\n",
      "1875/1875 [==============================] - 19s 10ms/step - loss: 0.1477 - acc: 0.9556\n",
      "Epoch 2/5\n",
      "1875/1875 [==============================] - 15s 8ms/step - loss: 0.0798 - acc: 0.9758\n",
      "Epoch 3/5\n",
      "1875/1875 [==============================] - 15s 8ms/step - loss: 0.0701 - acc: 0.9782\n",
      "Epoch 4/5\n",
      "1875/1875 [==============================] - 16s 9ms/step - loss: 0.0617 - acc: 0.9811\n",
      "Epoch 5/5\n",
      "1875/1875 [==============================] - 16s 8ms/step - loss: 0.0587 - acc: 0.9819\n",
      "WARNING:tensorflow:From c:\\users\\fabrice.lacout\\appdata\\local\\continuum\\anaconda3\\envs\\tensorflow2\\lib\\site-packages\\tensorflow_core\\python\\ops\\resource_variable_ops.py:1781: calling BaseResourceVariable.__init__ (from tensorflow.python.ops.resource_variable_ops) with constraint is deprecated and will be removed in a future version.\n",
      "Instructions for updating:\n",
      "If using Keras pass *_constraint arguments to layers.\n"
     ]
    },
    {
     "name": "stderr",
     "output_type": "stream",
     "text": [
      "WARNING:tensorflow:From c:\\users\\fabrice.lacout\\appdata\\local\\continuum\\anaconda3\\envs\\tensorflow2\\lib\\site-packages\\tensorflow_core\\python\\ops\\resource_variable_ops.py:1781: calling BaseResourceVariable.__init__ (from tensorflow.python.ops.resource_variable_ops) with constraint is deprecated and will be removed in a future version.\n",
      "Instructions for updating:\n",
      "If using Keras pass *_constraint arguments to layers.\n"
     ]
    },
    {
     "name": "stdout",
     "output_type": "stream",
     "text": [
      "INFO:tensorflow:Assets written to: ./saved_model\\assets\n"
     ]
    },
    {
     "name": "stderr",
     "output_type": "stream",
     "text": [
      "INFO:tensorflow:Assets written to: ./saved_model\\assets\n"
     ]
    },
    {
     "name": "stdout",
     "output_type": "stream",
     "text": [
      "313/313 [==============================] - 2s 6ms/step - loss: 0.0734 - acc: 0.9776\n",
      "loss: 0.073\n",
      "acc: 0.978\n"
     ]
    }
   ],
   "source": [
    "# Define the training parameters.\n",
    "args = {'export_path': './saved_model',\n",
    "        'buffer_size': 1000,\n",
    "        'batch_size': 32,\n",
    "        'learning_rate': 1e-3,\n",
    "        'epochs': 5\n",
    "}\n",
    "\n",
    "# Create the mnist object. \n",
    "mnist = MNIST(**args)\n",
    "\n",
    "# Train the model.\n",
    "mnist.train()\n",
    "\n",
    "# Save the model.\n",
    "mnist.export_model()\n",
    "\n",
    "# Evaluate the trained MNIST model.\n",
    "mnist.test()"
   ]
  },
  {
   "cell_type": "markdown",
   "metadata": {
    "colab_type": "text",
    "id": "sotJ7pQm7umV"
   },
   "source": [
    "## Create a Tarball\n",
    "\n",
    "The `export_model` method saved our model in the TensorFlow SavedModel format in the `./saved_model` directory. The SavedModel format saves our model and its weights in various files and directories. This makes it difficult to distribute our model. Therefore, it is convenient to create a single compressed file that contains all the files and folders of our model. To do this, we will use the `tar` archiving program to create a tarball (similar to a Zip file) that contains our SavedModel."
   ]
  },
  {
   "cell_type": "code",
   "execution_count": 4,
   "metadata": {},
   "outputs": [],
   "source": [
    "# Create a tarball from the SavedModel.\n",
    "!tar -cz -f module.tar.gz -C ./saved_model ."
   ]
  },
  {
   "cell_type": "markdown",
   "metadata": {},
   "source": [
    "## Inspect the Tarball\n",
    "\n",
    "We can uncompress our tarball to make sure it has all the files and folders from our SavedModel."
   ]
  },
  {
   "cell_type": "code",
   "execution_count": 5,
   "metadata": {
    "colab": {
     "base_uri": "https://localhost:8080/",
     "height": 143
    },
    "colab_type": "code",
    "id": "NknIrjE1ovkF",
    "outputId": "ca2a4d3b-b448-45af-cc7a-44e1096b7974"
   },
   "outputs": [
    {
     "name": "stdout",
     "output_type": "stream",
     "text": [
      "./\n",
      "./assets/\n",
      "./saved_model.pb\n",
      "./variables/\n",
      "./variables/variables.data-00000-of-00001\n",
      "./variables/variables.index\n"
     ]
    }
   ],
   "source": [
    "# Inspect the tarball.\n",
    "!tar -tf module.tar.gz"
   ]
  },
  {
   "cell_type": "markdown",
   "metadata": {
    "colab_type": "text",
    "id": "n8LjCeO474N4"
   },
   "source": [
    "## Simulate Server Conditions\n",
    "\n",
    "Once we have verified our tarball, we can now simulate server conditions. In a normal scenario, we will fetch our TF Hub module from a remote server using the module's handle. However, since this notebook cannot host the server, we will instead point the module handle to the directory where our SavedModel is stored. "
   ]
  },
  {
   "cell_type": "code",
   "execution_count": 6,
   "metadata": {
    "colab": {
     "base_uri": "https://localhost:8080/",
     "height": 143
    },
    "colab_type": "code",
    "id": "C-8vmmtVxJVF",
    "outputId": "05176438-367d-4914-d38e-db61d6e69978"
   },
   "outputs": [
    {
     "name": "stdout",
     "output_type": "stream",
     "text": [
      "./\n",
      "./assets/\n",
      "./saved_model.pb\n",
      "./variables/\n",
      "./variables/variables.data-00000-of-00001\n",
      "./variables/variables.index\n"
     ]
    }
   ],
   "source": [
    "!rm -rf ./module\n",
    "!mkdir -p module\n",
    "!tar xvzf module.tar.gz -C ./module"
   ]
  },
  {
   "cell_type": "code",
   "execution_count": 7,
   "metadata": {
    "colab": {},
    "colab_type": "code",
    "id": "TSmU1oZgxJZS"
   },
   "outputs": [],
   "source": [
    "# Define the module handle.\n",
    "MODULE_HANDLE = './module'"
   ]
  },
  {
   "cell_type": "markdown",
   "metadata": {},
   "source": [
    "## Load the TF Hub Module"
   ]
  },
  {
   "cell_type": "code",
   "execution_count": 8,
   "metadata": {
    "colab": {},
    "colab_type": "code",
    "id": "b2lOfoKab5Rv"
   },
   "outputs": [],
   "source": [
    "# EXERCISE: Load the TF Hub module using the hub.load API.\n",
    "model = hub.load(MODULE_HANDLE)"
   ]
  },
  {
   "cell_type": "markdown",
   "metadata": {},
   "source": [
    "## Test the TF Hub Module\n",
    "\n",
    "We will now test our TF Hub module with images from the `test` split of the MNIST dataset."
   ]
  },
  {
   "cell_type": "code",
   "execution_count": 10,
   "metadata": {
    "colab": {},
    "colab_type": "code",
    "id": "dCmeWVj_ovno"
   },
   "outputs": [],
   "source": [
    "# EXERCISE: Load the MNIST 'test' split using tfds.load(). You\n",
    "# should load the images along with their corresponding labels.\n",
    "\n",
    "dataset = tfds.load('mnist:3.*.*', split=['test'], as_supervised=True)\n",
    "\n",
    "# EXERCISE: Batch the dataset using a batch size of 32.\n",
    "test_dataset = dataset[0].batch(32)"
   ]
  },
  {
   "cell_type": "code",
   "execution_count": 11,
   "metadata": {
    "colab": {
     "base_uri": "https://localhost:8080/",
     "height": 53
    },
    "colab_type": "code",
    "id": "wY9bVLTayn3H",
    "outputId": "72dd5ad9-359c-4f71-a054-55a2cb04d6a8"
   },
   "outputs": [
    {
     "name": "stdout",
     "output_type": "stream",
     "text": [
      "Predicted Labels: [2 0 4 8 7 6 0 6 3 1 8 0 7 9 8 4 5 3 4 0 6 6 3 0 2 3 6 6 7 4 9 3]\n",
      "True Labels:      [2 0 4 8 7 6 0 6 3 1 8 0 7 9 8 4 5 3 4 0 6 6 3 0 2 3 6 6 7 4 9 3]\n"
     ]
    }
   ],
   "source": [
    "# Test the TF Hub module for a single batch of data\n",
    "for batch_data in test_dataset.take(1):\n",
    "    # batch_data[0] is image \n",
    "    # batch_data[1] is label\n",
    "    outputs = model(batch_data[0])\n",
    "    outputs = np.argmax(outputs, axis=-1)\n",
    "    print('Predicted Labels:', outputs)\n",
    "    print('True Labels:     ', batch_data[1].numpy())"
   ]
  },
  {
   "cell_type": "markdown",
   "metadata": {},
   "source": [
    "We can see that the model correctly predicts the labels for most images in the batch. "
   ]
  },
  {
   "cell_type": "markdown",
   "metadata": {
    "colab_type": "text",
    "id": "ciRPFhPg8FWH"
   },
   "source": [
    "## Evaluate the Model Using Keras\n",
    "\n",
    "In the cell below, you will integrate the TensorFlow Hub module into the high level Keras API."
   ]
  },
  {
   "cell_type": "code",
   "execution_count": 22,
   "metadata": {
    "colab": {},
    "colab_type": "code",
    "id": "YMjnPFOjxmus"
   },
   "outputs": [],
   "source": [
    "# EXERCISE: Integrate the TensorFlow Hub module into a Keras\n",
    "# sequential model. You should use a hub.KerasLayer and you \n",
    "# should make sure to use the correct values for the output_shape,\n",
    "# and input_shape parameters. You should also use tf.uint8 for\n",
    "# the dtype parameter.\n",
    "\n",
    "model =  tf.keras.Sequential([\n",
    "        hub.KerasLayer(MODULE_HANDLE, \n",
    "                       input_shape=(28, 28, 1,), \n",
    "                       output_shape=10,\n",
    "                       dtype=tf.uint8, \n",
    "                       trainable=False)\n",
    "])\n",
    "\n",
    "# Compile the model.\n",
    "model.compile(optimizer='adam',\n",
    "              loss='sparse_categorical_crossentropy', \n",
    "              metrics=['accuracy'])"
   ]
  },
  {
   "cell_type": "code",
   "execution_count": 23,
   "metadata": {
    "colab": {
     "base_uri": "https://localhost:8080/",
     "height": 35
    },
    "colab_type": "code",
    "id": "ShGHxh0Wx7lW",
    "outputId": "cce8cbc9-8f95-4965-d0cb-a8ce95e68156"
   },
   "outputs": [
    {
     "name": "stdout",
     "output_type": "stream",
     "text": [
      "313/313 [==============================] - 2s 5ms/step - loss: 0.0734 - accuracy: 0.9776- 1s 5ms/step - loss: 0.0703 - acc\n"
     ]
    }
   ],
   "source": [
    "# Evaluate the model on the test_dataset.\n",
    "results = model.evaluate(test_dataset)"
   ]
  },
  {
   "cell_type": "code",
   "execution_count": 24,
   "metadata": {
    "colab": {
     "base_uri": "https://localhost:8080/",
     "height": 53
    },
    "colab_type": "code",
    "id": "wZ6jUqbDx7s4",
    "outputId": "b408ecf5-e91f-4f5c-e147-30047b267131"
   },
   "outputs": [
    {
     "name": "stdout",
     "output_type": "stream",
     "text": [
      "loss: 0.073\n",
      "accuracy: 0.978\n"
     ]
    }
   ],
   "source": [
    "# Print the metric values on which the model is being evaluated on.\n",
    "for name, value in zip(model.metrics_names, results):\n",
    "    print(\"%s: %.3f\" % (name, value))"
   ]
  },
  {
   "cell_type": "code",
   "execution_count": null,
   "metadata": {},
   "outputs": [],
   "source": []
  }
 ],
 "metadata": {
  "accelerator": "GPU",
  "colab": {
   "collapsed_sections": [],
   "name": "TFServing_Week2_Exercise.ipynb",
   "provenance": []
  },
  "kernelspec": {
   "display_name": "Python 3",
   "language": "python",
   "name": "python3"
  },
  "language_info": {
   "codemirror_mode": {
    "name": "ipython",
    "version": 3
   },
   "file_extension": ".py",
   "mimetype": "text/x-python",
   "name": "python",
   "nbconvert_exporter": "python",
   "pygments_lexer": "ipython3",
   "version": "3.6.10"
  },
  "toc": {
   "base_numbering": 1,
   "nav_menu": {},
   "number_sections": true,
   "sideBar": true,
   "skip_h1_title": false,
   "title_cell": "Table of Contents",
   "title_sidebar": "Contents",
   "toc_cell": false,
   "toc_position": {},
   "toc_section_display": true,
   "toc_window_display": true
  }
 },
 "nbformat": 4,
 "nbformat_minor": 1
}
